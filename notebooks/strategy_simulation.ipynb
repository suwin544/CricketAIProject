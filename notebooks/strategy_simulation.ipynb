{
 "cells": [
  {
   "cell_type": "code",
   "execution_count": 33,
   "id": "ecc44229-3764-4017-b3dd-2883010a3813",
   "metadata": {},
   "outputs": [
    {
     "name": "stderr",
     "output_type": "stream",
     "text": [
      "WARNING:absl:Compiled the loaded model, but the compiled metrics have yet to be built. `model.compile_metrics` will be empty until you train or evaluate the model.\n"
     ]
    },
    {
     "name": "stdout",
     "output_type": "stream",
     "text": [
      "Model loaded successfully.\n"
     ]
    }
   ],
   "source": [
    "from tensorflow.keras.models import load_model\n",
    "import pandas as pd\n",
    "import numpy as np\n",
    "\n",
    "# Load your trained model\n",
    "model = load_model(\"../models/lstm_model.h5\")\n",
    "print(\"Model loaded successfully.\")\n"
   ]
  },
  {
   "cell_type": "code",
   "execution_count": 128,
   "id": "61673b24-c27b-42e7-8db5-437beba886cd",
   "metadata": {},
   "outputs": [
    {
     "name": "stderr",
     "output_type": "stream",
     "text": [
      "WARNING:absl:Compiled the loaded model, but the compiled metrics have yet to be built. `model.compile_metrics` will be empty until you train or evaluate the model.\n"
     ]
    },
    {
     "name": "stdout",
     "output_type": "stream",
     "text": [
      "✅ Model loaded successfully.\n"
     ]
    },
    {
     "name": "stderr",
     "output_type": "stream",
     "text": [
      "C:\\Users\\sundu\\AppData\\Local\\Temp\\ipykernel_29244\\401185788.py:20: DtypeWarning: Columns (20,21) have mixed types. Specify dtype option on import or set low_memory=False.\n",
      "  df_model = pd.read_csv(\"../data/processed/t20s_combined.csv\")\n"
     ]
    }
   ],
   "source": [
    "import pandas as pd\n",
    "import numpy as np\n",
    "import pickle\n",
    "from tensorflow.keras.models import load_model\n",
    "from tensorflow.keras.preprocessing.sequence import pad_sequences\n",
    "\n",
    "# Load model\n",
    "model = load_model(\"../models/lstm_model.h5\")\n",
    "print(\"✅ Model loaded successfully.\")\n",
    "\n",
    "# Load tokenizer\n",
    "with open(\"../models/tokenizer.pkl\", \"rb\") as f:\n",
    "    tokenizer = pickle.load(f)\n",
    "\n",
    "# Load label encoder\n",
    "with open(\"../models/label_encoder.pkl\", \"rb\") as f:\n",
    "    label_encoder = pickle.load(f)\n",
    "\n",
    "# Load dataset\n",
    "df_model = pd.read_csv(\"../data/processed/t20s_combined.csv\")\n",
    "df_model = df_model.dropna(subset=['wicket_type'])\n",
    "\n",
    "# Rebuild input 'text' column with labels\n",
    "df_model['text'] = (\n",
    "    \"Batsman: \" + df_model['striker'].astype(str) +\n",
    "    \" | Non-striker: \" + df_model['non_striker'].astype(str) +\n",
    "    \" | Bowler: \" + df_model['bowler'].astype(str) +\n",
    "    \" | Batting Team: \" + df_model['batting_team'].astype(str) +\n",
    "    \" | Bowling Team: \" + df_model['bowling_team'].astype(str) +\n",
    "    \" | Runs off bat: \" + df_model['runs_off_bat'].astype(str) +\n",
    "    \" | Over: \" + df_model['ball'].astype(str) +                             \n",
    "    \" | Venue: \" + df_model['venue'].astype(str)                           \n",
    ")\n",
    "\n",
    "\n",
    "\n",
    "# Prepare padded sequences using loaded tokenizer\n",
    "texts = df_model['text'].tolist()\n",
    "sequences = tokenizer.texts_to_sequences(texts)\n",
    "X = pad_sequences(sequences)\n",
    "\n",
    "# Encode labels using loaded label encoder\n",
    "labels = label_encoder.transform(df_model['wicket_type'].tolist())\n"
   ]
  },
  {
   "cell_type": "code",
   "execution_count": 137,
   "id": "a7a5aef3-1294-4d13-883e-ed347e033ccb",
   "metadata": {},
   "outputs": [
    {
     "name": "stdout",
     "output_type": "stream",
     "text": [
      "\u001b[1m1/1\u001b[0m \u001b[32m━━━━━━━━━━━━━━━━━━━━\u001b[0m\u001b[37m\u001b[0m \u001b[1m0s\u001b[0m 49ms/step\n"
     ]
    },
    {
     "data": {
      "text/html": [
       "<div>\n",
       "<style scoped>\n",
       "    .dataframe tbody tr th:only-of-type {\n",
       "        vertical-align: middle;\n",
       "    }\n",
       "\n",
       "    .dataframe tbody tr th {\n",
       "        vertical-align: top;\n",
       "    }\n",
       "\n",
       "    .dataframe thead th {\n",
       "        text-align: right;\n",
       "    }\n",
       "</style>\n",
       "<table border=\"1\" class=\"dataframe\">\n",
       "  <thead>\n",
       "    <tr style=\"text-align: right;\">\n",
       "      <th></th>\n",
       "      <th>Input Context</th>\n",
       "      <th>Predicted Wicket Type</th>\n",
       "      <th>Strategy Suggestion</th>\n",
       "    </tr>\n",
       "  </thead>\n",
       "  <tbody>\n",
       "    <tr>\n",
       "      <th>0</th>\n",
       "      <td>Batsman: BKG Mendis | Non-striker: LD Chandimal | Bowler: K Rabada | Batting Team: Sri Lanka | Bowling Team: South Africa | Runs off bat: 0 | Over: 0.7 | Venue: R.Premadasa Stadium, Khettarama</td>\n",
       "      <td>caught</td>\n",
       "      <td>Expect aggressive fielders at deep mid-wicket and long-on.</td>\n",
       "    </tr>\n",
       "    <tr>\n",
       "      <th>1</th>\n",
       "      <td>Batsman: T Bavuma | Non-striker: Q de Kock | Bowler: SM Curran | Batting Team: South Africa | Bowling Team: England | Runs off bat: 0 | Over: 0.6 | Venue: Newlands</td>\n",
       "      <td>run out</td>\n",
       "      <td>Fielding pressure working – increase in-fielders near circle.</td>\n",
       "    </tr>\n",
       "    <tr>\n",
       "      <th>2</th>\n",
       "      <td>Batsman: Shafali Verma | Non-striker: S Mandhana | Bowler: S Ecclestone | Batting Team: India | Bowling Team: England | Runs off bat: 0 | Over: 5.5 | Venue: Junction Oval</td>\n",
       "      <td>bowled</td>\n",
       "      <td>Bowler targeting stumps – keep length full and straight.</td>\n",
       "    </tr>\n",
       "    <tr>\n",
       "      <th>3</th>\n",
       "      <td>Batsman: PWH de Silva | Non-striker: DM de Silva | Bowler: SN Thakur | Batting Team: Sri Lanka | Bowling Team: India | Runs off bat: 0 | Over: 13.6 | Venue: Maharashtra Cricket Association Stadium</td>\n",
       "      <td>caught</td>\n",
       "      <td>Expect aggressive fielders at deep mid-wicket and long-on.</td>\n",
       "    </tr>\n",
       "    <tr>\n",
       "      <th>4</th>\n",
       "      <td>Batsman: KJ O'Brien | Non-striker: GJ Delany | Bowler: D Ajekun | Batting Team: Ireland | Bowling Team: Nigeria | Runs off bat: 0 | Over: 5.2 | Venue: Sheikh Zayed Stadium</td>\n",
       "      <td>caught</td>\n",
       "      <td>Expect aggressive fielders at deep mid-wicket and long-on.</td>\n",
       "    </tr>\n",
       "  </tbody>\n",
       "</table>\n",
       "</div>"
      ],
      "text/plain": [
       "                                                                                                                                                                                          Input Context  \\\n",
       "0      Batsman: BKG Mendis | Non-striker: LD Chandimal | Bowler: K Rabada | Batting Team: Sri Lanka | Bowling Team: South Africa | Runs off bat: 0 | Over: 0.7 | Venue: R.Premadasa Stadium, Khettarama   \n",
       "1                                   Batsman: T Bavuma | Non-striker: Q de Kock | Bowler: SM Curran | Batting Team: South Africa | Bowling Team: England | Runs off bat: 0 | Over: 0.6 | Venue: Newlands   \n",
       "2                            Batsman: Shafali Verma | Non-striker: S Mandhana | Bowler: S Ecclestone | Batting Team: India | Bowling Team: England | Runs off bat: 0 | Over: 5.5 | Venue: Junction Oval   \n",
       "3  Batsman: PWH de Silva | Non-striker: DM de Silva | Bowler: SN Thakur | Batting Team: Sri Lanka | Bowling Team: India | Runs off bat: 0 | Over: 13.6 | Venue: Maharashtra Cricket Association Stadium   \n",
       "4                           Batsman: KJ O'Brien | Non-striker: GJ Delany | Bowler: D Ajekun | Batting Team: Ireland | Bowling Team: Nigeria | Runs off bat: 0 | Over: 5.2 | Venue: Sheikh Zayed Stadium   \n",
       "\n",
       "  Predicted Wicket Type  \\\n",
       "0                caught   \n",
       "1               run out   \n",
       "2                bowled   \n",
       "3                caught   \n",
       "4                caught   \n",
       "\n",
       "                                             Strategy Suggestion  \n",
       "0     Expect aggressive fielders at deep mid-wicket and long-on.  \n",
       "1  Fielding pressure working – increase in-fielders near circle.  \n",
       "2       Bowler targeting stumps – keep length full and straight.  \n",
       "3     Expect aggressive fielders at deep mid-wicket and long-on.  \n",
       "4     Expect aggressive fielders at deep mid-wicket and long-on.  "
      ]
     },
     "execution_count": 137,
     "metadata": {},
     "output_type": "execute_result"
    }
   ],
   "source": [
    "# =============================\n",
    "# 1. Define strategy function\n",
    "# =============================\n",
    "def get_strategy_suggestion(wicket_type):\n",
    "    suggestions = {\n",
    "        'caught': \"Expect aggressive fielders at deep mid-wicket and long-on.\",\n",
    "        'bowled': \"Bowler targeting stumps – keep length full and straight.\",\n",
    "        'run out': \"Fielding pressure working – increase in-fielders near circle.\",\n",
    "        'lbw': \"Attack the pads – spinner or yorker could work.\",\n",
    "        'hit wicket': \"Rare dismissal – bowler exploiting batter’s footwork.\",\n",
    "        'stumped': \"Wicketkeeper sharp – time to dive from spinners.\",\n",
    "        'retired hurt': \"Injury concern – team might slow down pace.\",\n",
    "        'retired not out': \"Unusual case – monitor batter’s intent.\",\n",
    "        'obstructing the field': \"Rare call – tight coordination among fielders.\",\n",
    "        'handled the ball': \"Unlikely dismissal – watch batter discipline.\",\n",
    "        'caught and bowled': \"Sharp reflexes – keep bowler alert on follow-through.\"\n",
    "    }\n",
    "    return suggestions.get(wicket_type, \"No specific strategy available.\")\n",
    "\n",
    "# =============================\n",
    "# 2. Split train/test from full padded data\n",
    "# =============================\n",
    "X = x  # already tokenized + padded\n",
    "y = labels  # encoded labels\n",
    "\n",
    "from sklearn.model_selection import train_test_split\n",
    "X_train, X_test, y_train, y_test = train_test_split(X, y, test_size=0.2, random_state=42)\n",
    "\n",
    "# =============================\n",
    "# 3. Sample and Predict\n",
    "# =============================\n",
    "import random\n",
    "import numpy as np\n",
    "\n",
    "sample_indices = random.sample(range(len(X_test)), 5)\n",
    "sample_inputs = X_test[sample_indices]\n",
    "\n",
    "sample_probs = model.predict(sample_inputs)\n",
    "sample_preds = np.argmax(sample_probs, axis=1)\n",
    "sample_labels = label_encoder.inverse_transform(sample_preds)\n",
    "\n",
    "# =============================\n",
    "# 4. Decode inputs back to text\n",
    "# =============================\n",
    "sample_texts = df_model['text'].iloc[sample_indices].tolist()\n",
    "\n",
    "\n",
    "# =============================\n",
    "# 5. Display in DataFrame\n",
    "# =============================\n",
    "import pandas as pd\n",
    "results = []\n",
    "for i in range(5):\n",
    "    results.append({\n",
    "        'Input Context': sample_texts[i],\n",
    "        'Predicted Wicket Type': sample_labels[i],\n",
    "        'Strategy Suggestion': get_strategy_suggestion(sample_labels[i])\n",
    "    })\n",
    "\n",
    "pd.set_option('display.max_colwidth', None)\n",
    "output_df = pd.DataFrame(results)\n",
    "output_df\n"
   ]
  },
  {
   "cell_type": "code",
   "execution_count": null,
   "id": "44d6a246-7319-499f-921a-303537ae8733",
   "metadata": {},
   "outputs": [],
   "source": []
  },
  {
   "cell_type": "code",
   "execution_count": null,
   "id": "6a2b13f7-b50c-4d50-907f-ead75f6f9a98",
   "metadata": {},
   "outputs": [],
   "source": []
  }
 ],
 "metadata": {
  "kernelspec": {
   "display_name": "Python [conda env:base] *",
   "language": "python",
   "name": "conda-base-py"
  },
  "language_info": {
   "codemirror_mode": {
    "name": "ipython",
    "version": 3
   },
   "file_extension": ".py",
   "mimetype": "text/x-python",
   "name": "python",
   "nbconvert_exporter": "python",
   "pygments_lexer": "ipython3",
   "version": "3.12.7"
  }
 },
 "nbformat": 4,
 "nbformat_minor": 5
}
